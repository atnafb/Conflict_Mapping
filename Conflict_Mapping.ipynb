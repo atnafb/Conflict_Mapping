{
 "cells": [
  {
   "cell_type": "code",
   "execution_count": 4,
   "id": "1dcf0cad-7cbf-4ee6-a853-582f4821f738",
   "metadata": {},
   "outputs": [],
   "source": [
    "import pandas as pd \n",
    "from pathlib import Path "
   ]
  },
  {
   "cell_type": "code",
   "execution_count": 10,
   "id": "cf1f3643-6e46-448a-a663-0ddb9bbeac63",
   "metadata": {},
   "outputs": [
    {
     "name": "stdout",
     "output_type": "stream",
     "text": [
      "True\n"
     ]
    }
   ],
   "source": [
    "data_path = Path(\"data_source/Ethiopia_political_violence_events.xlsx\")\n",
    "print(data_path.exists())"
   ]
  },
  {
   "cell_type": "code",
   "execution_count": 12,
   "id": "75e4fa63-16b6-4df2-83a3-03bf75eb1a0b",
   "metadata": {},
   "outputs": [
    {
     "data": {
      "text/html": [
       "<div>\n",
       "<style scoped>\n",
       "    .dataframe tbody tr th:only-of-type {\n",
       "        vertical-align: middle;\n",
       "    }\n",
       "\n",
       "    .dataframe tbody tr th {\n",
       "        vertical-align: top;\n",
       "    }\n",
       "\n",
       "    .dataframe thead th {\n",
       "        text-align: right;\n",
       "    }\n",
       "</style>\n",
       "<table border=\"1\" class=\"dataframe\">\n",
       "  <thead>\n",
       "    <tr style=\"text-align: right;\">\n",
       "      <th></th>\n",
       "      <th>Country</th>\n",
       "      <th>Admin1</th>\n",
       "      <th>Admin2</th>\n",
       "      <th>ISO3</th>\n",
       "      <th>Admin2 Pcode</th>\n",
       "      <th>Admin1 Pcode</th>\n",
       "      <th>Month</th>\n",
       "      <th>Year</th>\n",
       "      <th>Events</th>\n",
       "      <th>Fatalities</th>\n",
       "    </tr>\n",
       "  </thead>\n",
       "  <tbody>\n",
       "    <tr>\n",
       "      <th>0</th>\n",
       "      <td>Ethiopia</td>\n",
       "      <td>Benshangul/Gumuz</td>\n",
       "      <td>Kemashi</td>\n",
       "      <td>ETH</td>\n",
       "      <td>ET0604</td>\n",
       "      <td>ET06</td>\n",
       "      <td>January</td>\n",
       "      <td>1997</td>\n",
       "      <td>0</td>\n",
       "      <td>0</td>\n",
       "    </tr>\n",
       "    <tr>\n",
       "      <th>1</th>\n",
       "      <td>Ethiopia</td>\n",
       "      <td>Gambela</td>\n",
       "      <td>Majang</td>\n",
       "      <td>ETH</td>\n",
       "      <td>ET1203</td>\n",
       "      <td>ET12</td>\n",
       "      <td>January</td>\n",
       "      <td>1997</td>\n",
       "      <td>0</td>\n",
       "      <td>0</td>\n",
       "    </tr>\n",
       "    <tr>\n",
       "      <th>2</th>\n",
       "      <td>Ethiopia</td>\n",
       "      <td>Oromia</td>\n",
       "      <td>Arsi</td>\n",
       "      <td>ETH</td>\n",
       "      <td>ET0408</td>\n",
       "      <td>ET04</td>\n",
       "      <td>January</td>\n",
       "      <td>1997</td>\n",
       "      <td>0</td>\n",
       "      <td>0</td>\n",
       "    </tr>\n",
       "    <tr>\n",
       "      <th>3</th>\n",
       "      <td>Ethiopia</td>\n",
       "      <td>Oromia</td>\n",
       "      <td>East Bale</td>\n",
       "      <td>ETH</td>\n",
       "      <td>ET0421</td>\n",
       "      <td>ET04</td>\n",
       "      <td>January</td>\n",
       "      <td>1997</td>\n",
       "      <td>0</td>\n",
       "      <td>0</td>\n",
       "    </tr>\n",
       "    <tr>\n",
       "      <th>4</th>\n",
       "      <td>Ethiopia</td>\n",
       "      <td>Oromia</td>\n",
       "      <td>East Wellega</td>\n",
       "      <td>ETH</td>\n",
       "      <td>ET0402</td>\n",
       "      <td>ET04</td>\n",
       "      <td>January</td>\n",
       "      <td>1997</td>\n",
       "      <td>0</td>\n",
       "      <td>0</td>\n",
       "    </tr>\n",
       "  </tbody>\n",
       "</table>\n",
       "</div>"
      ],
      "text/plain": [
       "    Country            Admin1        Admin2 ISO3 Admin2 Pcode Admin1 Pcode  \\\n",
       "0  Ethiopia  Benshangul/Gumuz       Kemashi  ETH       ET0604         ET06   \n",
       "1  Ethiopia           Gambela        Majang  ETH       ET1203         ET12   \n",
       "2  Ethiopia            Oromia          Arsi  ETH       ET0408         ET04   \n",
       "3  Ethiopia            Oromia     East Bale  ETH       ET0421         ET04   \n",
       "4  Ethiopia            Oromia  East Wellega  ETH       ET0402         ET04   \n",
       "\n",
       "     Month  Year  Events  Fatalities  \n",
       "0  January  1997       0           0  \n",
       "1  January  1997       0           0  \n",
       "2  January  1997       0           0  \n",
       "3  January  1997       0           0  \n",
       "4  January  1997       0           0  "
      ]
     },
     "execution_count": 12,
     "metadata": {},
     "output_type": "execute_result"
    }
   ],
   "source": [
    "df = pd.read_excel(data_path, sheet_name=\"Data\")\n",
    "df.head()"
   ]
  },
  {
   "cell_type": "markdown",
   "id": "f023481c-aeb4-4813-96e9-ce862add520d",
   "metadata": {},
   "source": [
    "## Cleaning the Data "
   ]
  },
  {
   "cell_type": "code",
   "execution_count": 14,
   "id": "c91c308a-1342-4956-8e0b-9ad73af08ef9",
   "metadata": {},
   "outputs": [],
   "source": [
    "# Rename admin1 = region admin2 = zone\n",
    "df = df.rename(columns={\"Admin1\":\"Region\", \"Admin2\":\"Zone\"})\n",
    "df = df.drop(columns=[\"Fatalities\"])"
   ]
  },
  {
   "cell_type": "code",
   "execution_count": 19,
   "id": "7639f7f0-3fa3-4857-894a-93d719e54104",
   "metadata": {},
   "outputs": [],
   "source": [
    "# Map month names to numbers \n",
    "MONTH = {\n",
    "    \"January\": 1, \"February\": 2, \"March\": 3, \"April\": 4,\n",
    "    \"May\": 5, \"June\": 6, \"July\": 7, \"August\": 8,\n",
    "    \"September\": 9, \"October\": 10, \"November\": 11, \"December\": 12\n",
    "}\n",
    "\n",
    "df[\"month_num\"] = df[\"Month\"].map(MONTH)"
   ]
  },
  {
   "cell_type": "code",
   "execution_count": 27,
   "id": "b724da08-edc5-4d70-8d07-e175fffa3c24",
   "metadata": {},
   "outputs": [],
   "source": [
    "# Merge the Month and year columns and change the data type to date and time \n",
    "df[\"date\"] = pd.to_datetime(dict(year=df[\"Year\"], month=df[\"month_num\"], day=1),\n",
    "                           errors=\"coerce\")"
   ]
  },
  {
   "cell_type": "code",
   "execution_count": 35,
   "id": "940a3145-a7b4-4105-9819-ae2bf4603b41",
   "metadata": {},
   "outputs": [],
   "source": [
    "# Remove month, year and month_num fields \n",
    "df=df.drop(columns = [\"Month\", \"Year\", \"month_num\"])\n"
   ]
  },
  {
   "cell_type": "code",
   "execution_count": 37,
   "id": "73adb7e5-7396-48c8-81c0-1c561c4ddefd",
   "metadata": {},
   "outputs": [
    {
     "data": {
      "text/html": [
       "<div>\n",
       "<style scoped>\n",
       "    .dataframe tbody tr th:only-of-type {\n",
       "        vertical-align: middle;\n",
       "    }\n",
       "\n",
       "    .dataframe tbody tr th {\n",
       "        vertical-align: top;\n",
       "    }\n",
       "\n",
       "    .dataframe thead th {\n",
       "        text-align: right;\n",
       "    }\n",
       "</style>\n",
       "<table border=\"1\" class=\"dataframe\">\n",
       "  <thead>\n",
       "    <tr style=\"text-align: right;\">\n",
       "      <th></th>\n",
       "      <th>Country</th>\n",
       "      <th>Region</th>\n",
       "      <th>Zone</th>\n",
       "      <th>ISO3</th>\n",
       "      <th>Admin2 Pcode</th>\n",
       "      <th>Admin1 Pcode</th>\n",
       "      <th>Events</th>\n",
       "      <th>date</th>\n",
       "    </tr>\n",
       "  </thead>\n",
       "  <tbody>\n",
       "    <tr>\n",
       "      <th>23460</th>\n",
       "      <td>Ethiopia</td>\n",
       "      <td>Benshangul/Gumuz</td>\n",
       "      <td>Kemashi</td>\n",
       "      <td>ETH</td>\n",
       "      <td>ET0604</td>\n",
       "      <td>ET06</td>\n",
       "      <td>0</td>\n",
       "      <td>2018-04-01</td>\n",
       "    </tr>\n",
       "    <tr>\n",
       "      <th>23461</th>\n",
       "      <td>Ethiopia</td>\n",
       "      <td>Gambela</td>\n",
       "      <td>Majang</td>\n",
       "      <td>ETH</td>\n",
       "      <td>ET1203</td>\n",
       "      <td>ET12</td>\n",
       "      <td>0</td>\n",
       "      <td>2018-04-01</td>\n",
       "    </tr>\n",
       "    <tr>\n",
       "      <th>23462</th>\n",
       "      <td>Ethiopia</td>\n",
       "      <td>Oromia</td>\n",
       "      <td>Arsi</td>\n",
       "      <td>ETH</td>\n",
       "      <td>ET0408</td>\n",
       "      <td>ET04</td>\n",
       "      <td>1</td>\n",
       "      <td>2018-04-01</td>\n",
       "    </tr>\n",
       "    <tr>\n",
       "      <th>23463</th>\n",
       "      <td>Ethiopia</td>\n",
       "      <td>Oromia</td>\n",
       "      <td>East Bale</td>\n",
       "      <td>ETH</td>\n",
       "      <td>ET0421</td>\n",
       "      <td>ET04</td>\n",
       "      <td>1</td>\n",
       "      <td>2018-04-01</td>\n",
       "    </tr>\n",
       "    <tr>\n",
       "      <th>23464</th>\n",
       "      <td>Ethiopia</td>\n",
       "      <td>Oromia</td>\n",
       "      <td>East Wellega</td>\n",
       "      <td>ETH</td>\n",
       "      <td>ET0402</td>\n",
       "      <td>ET04</td>\n",
       "      <td>0</td>\n",
       "      <td>2018-04-01</td>\n",
       "    </tr>\n",
       "  </tbody>\n",
       "</table>\n",
       "</div>"
      ],
      "text/plain": [
       "        Country            Region          Zone ISO3 Admin2 Pcode  \\\n",
       "23460  Ethiopia  Benshangul/Gumuz       Kemashi  ETH       ET0604   \n",
       "23461  Ethiopia           Gambela        Majang  ETH       ET1203   \n",
       "23462  Ethiopia            Oromia          Arsi  ETH       ET0408   \n",
       "23463  Ethiopia            Oromia     East Bale  ETH       ET0421   \n",
       "23464  Ethiopia            Oromia  East Wellega  ETH       ET0402   \n",
       "\n",
       "      Admin1 Pcode  Events       date  \n",
       "23460         ET06       0 2018-04-01  \n",
       "23461         ET12       0 2018-04-01  \n",
       "23462         ET04       1 2018-04-01  \n",
       "23463         ET04       1 2018-04-01  \n",
       "23464         ET04       0 2018-04-01  "
      ]
     },
     "execution_count": 37,
     "metadata": {},
     "output_type": "execute_result"
    }
   ],
   "source": [
    "# Keep data since 2018 April \n",
    "start_date = pd.Timestamp(2018,4, 1)\n",
    "df = df[df[\"date\"] >= start_date]\n",
    "df.head()"
   ]
  },
  {
   "cell_type": "code",
   "execution_count": null,
   "id": "5791a62b-be66-4931-90e6-8dfbe51bfa7d",
   "metadata": {},
   "outputs": [],
   "source": [
    "# saving the 2018 onward data as csv \n",
    "df.to_csv(\"Data_Source/Political_violence_since_2018_April.csv\", index=False)"
   ]
  }
 ],
 "metadata": {
  "kernelspec": {
   "display_name": "Python 3 (ipykernel)",
   "language": "python",
   "name": "python3"
  },
  "language_info": {
   "codemirror_mode": {
    "name": "ipython",
    "version": 3
   },
   "file_extension": ".py",
   "mimetype": "text/x-python",
   "name": "python",
   "nbconvert_exporter": "python",
   "pygments_lexer": "ipython3",
   "version": "3.12.4"
  }
 },
 "nbformat": 4,
 "nbformat_minor": 5
}
